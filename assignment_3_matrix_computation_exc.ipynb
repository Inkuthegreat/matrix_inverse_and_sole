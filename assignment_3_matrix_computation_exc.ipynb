{
 "cells": [
  {
   "cell_type": "code",
   "execution_count": 13,
   "id": "e75d4cc6",
   "metadata": {},
   "outputs": [
    {
     "name": "stdout",
     "output_type": "stream",
     "text": [
      "The autoreload extension is already loaded. To reload it, use:\n",
      "  %reload_ext autoreload\n"
     ]
    }
   ],
   "source": [
    "\"\"\"\n",
    "-----------------------------------------------------------------------------\n",
    "Assignment-3: Matrix computation exercise using python and numpy\n",
    "-----------------------------------------------------------------------------\n",
    "AUTHOR: Soumitra Samanta (soumitra.samanta@gm.rkmvu.ac.in)\n",
    "-----------------------------------------------------------------------------\n",
    "Package required:\n",
    "Numpy: https://numpy.org/\n",
    "Matplotlib: https://matplotlib.org\n",
    "-----------------------------------------------------------------------------\n",
    "\"\"\"\n",
    "\n",
    "import numpy as np\n",
    "from numpy.random import RandomState\n",
    "from assignment_3_matrix_computation_exc import *\n",
    "\n",
    "# for auto-reloading extenrnal modules\n",
    "# see http://stackoverflow.com/questions/1907993/autoreload-of-modules-in-ipython\n",
    "%load_ext autoreload\n",
    "%autoreload 2\n"
   ]
  },
  {
   "cell_type": "markdown",
   "id": "b7b83604",
   "metadata": {},
   "source": [
    "# Please check the file <font color='red'>assignment_3_matrix_computation.py</font> and fillup all the functions implementation from Assignment-2.\n",
    "-----------------------------------------------------------------------------\n",
    "\n",
    "# Reduce a non-singular matrix $A$ of order $n$ to $I_n$ by elementary row operations only. Also, find the $A^{-1}$ using the sequence of row operations appplied on $A$. Check your $A^{-1}$ with [numpy.linalg.inv](https://numpy.org/doc/stable/reference/generated/numpy.linalg.inv.html)  with 10 decimal place and also $A^{-1}A=I_n$. Implement your funtion as <font color='red'>reduce_non_sigular_matrix_to_identity</font> started at <font color='red'>line no 643</font> in <font color='red'>assignment_3_matrix_computation.py</font> file in appropriate location. You'll find <font color='red'>assignment_3_matrix_computation.py</font> within this folder.\n",
    "[25 points]"
   ]
  },
  {
   "cell_type": "code",
   "execution_count": 14,
   "id": "079792d9",
   "metadata": {},
   "outputs": [
    {
     "name": "stdout",
     "output_type": "stream",
     "text": [
      "A random matrices A:\n",
      "[[7, -5, 7, -6, -1], [8, 4, -5, -4, 6], [8, -1, -3, -9, 6], [8, -2, 6, -9, 9], [8, -1, -1, 4, -5]]\n",
      "----------------------------------------------------------------------\n",
      "The reduced identity form of A:\n",
      "[[ 1.  0.  0.  0.  0.]\n",
      " [ 0.  1. -0.  0.  0.]\n",
      " [ 0.  0.  1.  0.  0.]\n",
      " [ 0.  0.  0.  1.  0.]\n",
      " [ 0.  0.  0.  0.  1.]]\n",
      "and\n",
      "INV_A: \n",
      "[[ 0.006  0.036 -0.015  0.027  0.072]\n",
      " [ 0.251  0.378 -0.272 -0.144 -0.182]\n",
      " [ 0.104  0.092 -0.164  0.032 -0.05 ]\n",
      " [-0.209 -0.141  0.006  0.156  0.161]\n",
      " [-0.228 -0.15   0.069  0.19   0.091]] \n",
      "----------------------------------------------------------------------\n",
      "----------------------------------------------------------------------\n",
      "Check the reduced identity form of A:\n",
      "[[ 1.  0. -0. -0.  0.]\n",
      " [ 0.  1. -0.  0.  0.]\n",
      " [ 0. -0.  1. -0.  0.]\n",
      " [ 0.  0.  0.  1.  0.]\n",
      " [ 0. -0. -0. -0.  1.]]\n",
      "----------------------------------------------------------------------\n"
     ]
    }
   ],
   "source": [
    "# Now test your code\n",
    "np.random.seed(42)# for reproduce the random numbers\n",
    "l = 9\n",
    "n = 5\n",
    "error_decimal = 10\n",
    "A = []\n",
    "A=rand_matrix(n,n,l)\n",
    "print('A random matrices A:\\n{}' .format(A))\n",
    "print('-'*70)\n",
    "\n",
    "I_A,  INV_A= reduce_non_sigular_matrix_to_identity(A)        \n",
    "print('The reduced identity form of A:\\n{}\\nand\\nINV_A: \\n{} ' .format(np.round(I_A, 3), np.round(INV_A, 3)))\n",
    "print('-'*70)   \n",
    "\n",
    "INV_A_np = []# Please uncomment the next line\n",
    "# print('Check the inverse of A with numpy implementation:\\n{}\\nand absolute diff|INV_A-INV_A_np| upto {}-th decimal place: \\n{}' .format(np.round(INV_A_np, 3), error_decimal, np.round(np.abs(INV_A-INV_A_np), error_decimal)))\n",
    "print('-'*70)  \n",
    "\n",
    "I_check = matrix_multiplication(INV_A, A)\n",
    "print('Check the reduced identity form of A:\\n{}' .format(np.round(I_check, 3)))\n",
    "print('-'*70)   \n",
    "\n",
    "\n"
   ]
  },
  {
   "cell_type": "markdown",
   "id": "abbee672",
   "metadata": {},
   "source": [
    "# Apply the above inverse method to find a soluation of a system $Ax=b$. Where $A$ is non-singular. You have to generate a random system of linear equation ($n$-equations with $n$ unknowns) and check your results. Implement your funtion as <font color='red'>generate_random_linear_system</font> and <font color='red'>soln_n_equations_n_unknowns</font> started at <font color='red'>line no 668 and 703</font> respectively in <font color='red'>assignment_3_matrix_computation.py</font> file in appropriate location. You'll find <font color='red'>assignment_3_matrix_computation.py</font> within this folder.\n",
    "[25 points]"
   ]
  },
  {
   "cell_type": "code",
   "execution_count": 24,
   "id": "b45a268b",
   "metadata": {},
   "outputs": [
    {
     "name": "stdout",
     "output_type": "stream",
     "text": [
      "A random matrices A:\n",
      "[[-3, -2, -5, -6, 3], [-3, -1, -3, 8, -8], [-3, 4, -4, 8, 0], [-3, 4, 0, 8, -8], [-3, 1, 2, -4, 2]]\n",
      "----------------------------------------------------------------------\n",
      "The coefficient matrix A: \n",
      "[[7, 0, 1, -5, 3], [8, -1, -9, -5, 6], [8, 5, 9, -4, -5], [8, 2, -9, 3, 4], [8, 2, -4, 3, -4]]\n",
      "----------------------------------------------------------------------\n",
      "Right-hand vector b: \n",
      "[[8], [8], [8], [8], [8]]\n",
      "----------------------------------------------------------------------\n",
      "Actual soluation x: \n",
      "[[1.189123540921665], [-0.3897172930301578], [0.1943188718709936], [0.1765063086161528], [0.12144929491937084]]\n",
      "----------------------------------------------------------------------\n",
      "Estimated soluation x_est: \n",
      "[[ 1.189]\n",
      " [-0.39 ]\n",
      " [ 0.194]\n",
      " [ 0.177]\n",
      " [ 0.121]]\n",
      "and \n",
      "absolute diff|x-x_est| upto 10-th decimal place: \n",
      "[[0.]\n",
      " [0.]\n",
      " [0.]\n",
      " [0.]\n",
      " [0.]]\n",
      "----------------------------------------------------------------------\n"
     ]
    }
   ],
   "source": [
    "# Now test your code\n",
    "np.random.seed(42)# for reproduce the random numbers\n",
    "l = 9\n",
    "n = 5\n",
    "error_decimal = 10\n",
    "A = []\n",
    "A=rand_matrix(n,n,l)\n",
    "print('A random matrices A:\\n{}' .format(A))\n",
    "print('-'*70)\n",
    "\n",
    "A, b, x = generate_random_linear_system(n, n)\n",
    "print('The coefficient matrix A: \\n{}' .format(A))\n",
    "print('-'*70) \n",
    "print('Right-hand vector b: \\n{}' .format(b))\n",
    "print('-'*70)\n",
    "print('Actual soluation x: \\n{}' .format(x))\n",
    "print('-'*70)\n",
    "\n",
    "\n",
    "x_est, INV_A = soln_n_equations_n_unknowns(A, b) # Please uncomment the next line         \n",
    "print('Estimated soluation x_est: \\n{}\\nand \\nabsolute diff|x-x_est| upto {}-th decimal place: \\n{}' .format(np.round(x_est, 3), error_decimal, np.round(np.abs(np.array(x)-np.array(x_est)), error_decimal)))\n",
    "print('-'*70)      \n",
    "\n",
    "#print(matrix_multiplication(A,x_est))\n",
    "\n",
    "\n"
   ]
  },
  {
   "cell_type": "code",
   "execution_count": null,
   "id": "68d40778",
   "metadata": {},
   "outputs": [],
   "source": []
  },
  {
   "cell_type": "code",
   "execution_count": null,
   "id": "5a981720",
   "metadata": {},
   "outputs": [],
   "source": []
  }
 ],
 "metadata": {
  "kernelspec": {
   "display_name": "Python 3 (ipykernel)",
   "language": "python",
   "name": "python3"
  },
  "language_info": {
   "name": "python"
  }
 },
 "nbformat": 4,
 "nbformat_minor": 5
}
